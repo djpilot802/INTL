{
 "cells": [
  {
   "cell_type": "markdown",
   "metadata": {},
   "source": [
    "# Timetree Consolidated Request API"
   ]
  },
  {
   "cell_type": "code",
   "execution_count": 8,
   "metadata": {},
   "outputs": [],
   "source": [
    "import requests \n",
    "import json\n",
    "from credentials import headers_jac\n",
    "import pandas as pd\n",
    "from flask import jsonify\n",
    "from pandas.io.json import json_normalize"
   ]
  },
  {
   "cell_type": "markdown",
   "metadata": {},
   "source": [
    "## GET Members \n",
    "\n",
    "#### Reference the timetree DEV site: \n",
    "\n",
    "**https://developers.timetreeapp.com/en/docs/api/oauth-app**"
   ]
  },
  {
   "cell_type": "code",
   "execution_count": 9,
   "metadata": {},
   "outputs": [],
   "source": [
    "members_url = 'https://timetreeapis.com/calendars/SRx7BmTyN7Hw/members'\n",
    "\n",
    "payload = {\n",
    "    \"incude\":\"labels, members\"\n",
    "}\n",
    "r_users= requests.get(members_url, headers = headers_jac, params = payload).json()\n",
    "\n",
    "members= pd.DataFrame.from_dict(r_users)\n",
    "members = pd.json_normalize(members['data'])\n",
    "members.columns = members.columns.str.replace('attributes.','', regex = True)\n",
    "\n",
    "members.to_csv(r'/Users/jaccottam/Desktop/Projects/INTL/db/members.csv')"
   ]
  },
  {
   "cell_type": "markdown",
   "metadata": {},
   "source": [
    "## GET Labels"
   ]
  },
  {
   "cell_type": "code",
   "execution_count": 10,
   "metadata": {},
   "outputs": [],
   "source": [
    "labels_url = 'https://timetreeapis.com/calendars/SRx7BmTyN7Hw/labels'\n",
    "\n",
    "r_labels = requests.get(labels_url, headers = headers_jac).json()\n",
    "\n",
    "labels= pd.DataFrame.from_dict(r_labels)\n",
    "labels = pd.json_normalize(labels['data'])\n",
    "labels.columns = labels.columns.str.replace('attributes.','', regex = True)\n",
    "\n",
    "labels.to_csv(r'/Users/jaccottam/Desktop/Projects/INTL/db/labels.csv')"
   ]
  },
  {
   "cell_type": "markdown",
   "metadata": {},
   "source": [
    "## GET Events"
   ]
  },
  {
   "cell_type": "code",
   "execution_count": 11,
   "metadata": {},
   "outputs": [],
   "source": [
    "events_url = 'https://timetreeapis.com/calendars/SRx7BmTyN7Hw/upcoming_events'\n",
    "\n",
    "# Gets seven days out in the future\n",
    "\n",
    "payload = {\n",
    "    \"incude\":\"creator, label, attendees\",\n",
    "    \"days\" : 7\n",
    "}\n",
    "\n",
    "r_events = requests.get(events_url, headers = headers_jac, params=payload).json()\n",
    "\n",
    "events= pd.DataFrame.from_dict(r_events)\n",
    "events = pd.json_normalize(events['data'])\n",
    "events.columns = events.columns.str.replace('attributes.','', regex = True)\n",
    "\n",
    "events.to_csv(r'/Users/jaccottam/Desktop/Projects/INTL/db/events.csv')"
   ]
  }
 ],
 "metadata": {
  "kernelspec": {
   "display_name": "Python 3.9.12 ('base')",
   "language": "python",
   "name": "python3"
  },
  "language_info": {
   "codemirror_mode": {
    "name": "ipython",
    "version": 3
   },
   "file_extension": ".py",
   "mimetype": "text/x-python",
   "name": "python",
   "nbconvert_exporter": "python",
   "pygments_lexer": "ipython3",
   "version": "3.9.12"
  },
  "orig_nbformat": 4,
  "vscode": {
   "interpreter": {
    "hash": "40d3a090f54c6569ab1632332b64b2c03c39dcf918b08424e98f38b5ae0af88f"
   }
  }
 },
 "nbformat": 4,
 "nbformat_minor": 2
}
