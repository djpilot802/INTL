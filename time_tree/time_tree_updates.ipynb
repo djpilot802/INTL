{
 "cells": [
  {
   "cell_type": "code",
   "execution_count": 1,
   "metadata": {},
   "outputs": [],
   "source": [
    "import pandas as pd \n",
    "import numpy as np "
   ]
  },
  {
   "cell_type": "markdown",
   "metadata": {},
   "source": [
    "# What Needs to be Done \n",
    "\n",
    "Documenting the required fields below. Needs to be a post request.\n",
    "\n",
    "- accept \n",
    "- authorization \n",
    "- calendar_id \n",
    "- data:attributes:title \n",
    "- data:attributes:category \n",
    "- data:attributes:all_day \n",
    "- data:attributes:start_at \n",
    "- data:attributes:start_timezone\n",
    "- data:attributes:end_timezone\t\n",
    "- data:attributes:description \n",
    "- data:attributes:location\n",
    "- data:attributes:url\t\n",
    "- data:relationships:label:data:id\t\n",
    "- data:relationships:label:data:type\t\n",
    "- data:relationships:attendees:data[]:id\t\n",
    "- data:relationships:attendees:data[]:type\t"
   ]
  },
  {
   "cell_type": "markdown",
   "metadata": {},
   "source": []
  }
 ],
 "metadata": {
  "kernelspec": {
   "display_name": "Python 3.9.12 ('base')",
   "language": "python",
   "name": "python3"
  },
  "language_info": {
   "codemirror_mode": {
    "name": "ipython",
    "version": 3
   },
   "file_extension": ".py",
   "mimetype": "text/x-python",
   "name": "python",
   "nbconvert_exporter": "python",
   "pygments_lexer": "ipython3",
   "version": "3.9.12"
  },
  "orig_nbformat": 4,
  "vscode": {
   "interpreter": {
    "hash": "40d3a090f54c6569ab1632332b64b2c03c39dcf918b08424e98f38b5ae0af88f"
   }
  }
 },
 "nbformat": 4,
 "nbformat_minor": 2
}
